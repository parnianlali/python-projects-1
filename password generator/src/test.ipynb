{
 "cells": [
  {
   "cell_type": "code",
   "execution_count": 1,
   "id": "2d3ad324",
   "metadata": {},
   "outputs": [],
   "source": [
    "import random\n",
    "from abc import ABC, abstractmethod\n",
    "import string"
   ]
  },
  {
   "cell_type": "code",
   "execution_count": 3,
   "id": "628652c1",
   "metadata": {},
   "outputs": [],
   "source": [
    "class PasswordGenerator(ABC):\n",
    "    \"\"\"\n",
    "    base class contain generating password\n",
    "    \"\"\"\n",
    "    @abstractmethod\n",
    "    def password(self):\n",
    "        \"\"\"\n",
    "        the subcalsses will define their own method to generate password\n",
    "        \"\"\"\n",
    "        pass\n"
   ]
  },
  {
   "cell_type": "code",
   "execution_count": 4,
   "id": "ce7a1c7a",
   "metadata": {},
   "outputs": [],
   "source": [
    "class RandomPasswordGenerator(PasswordGenerator):\n",
    "    \"\"\"\n",
    "    generate random password, with optional choise for lenght and numberical and string password\n",
    "    \"\"\"\n",
    "    def __init__(self, lenght : int = 8, include_symbol = False, include_number = False):\n",
    "        self.lengh = lenght\n",
    "        self.characters : str = string.ascii_letters\n",
    "        if self.include_number:\n",
    "            self.characters += string.digits\n",
    "        if self.include_symbol:\n",
    "            self.characters += string.punctuation\n",
    "    \n",
    "    def password(self):\n",
    "        \"\"\"generate passwords with its method\"\"\"\n",
    "        return ''.join(random.choice(self.characters for _ in range(self.lengh)))\n",
    "  \n",
    "        "
   ]
  },
  {
   "cell_type": "code",
   "execution_count": null,
   "id": "cec0a597",
   "metadata": {},
   "outputs": [],
   "source": []
  }
 ],
 "metadata": {
  "kernelspec": {
   "display_name": "machine",
   "language": "python",
   "name": "python3"
  },
  "language_info": {
   "codemirror_mode": {
    "name": "ipython",
    "version": 3
   },
   "file_extension": ".py",
   "mimetype": "text/x-python",
   "name": "python",
   "nbconvert_exporter": "python",
   "pygments_lexer": "ipython3",
   "version": "3.8.17"
  }
 },
 "nbformat": 4,
 "nbformat_minor": 5
}
