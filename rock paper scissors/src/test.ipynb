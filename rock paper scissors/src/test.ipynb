{
 "cells": [
  {
   "cell_type": "code",
   "execution_count": null,
   "id": "a8e1fe9a",
   "metadata": {},
   "outputs": [],
   "source": [
    "import random"
   ]
  },
  {
   "cell_type": "code",
   "execution_count": 1,
   "id": "702d3b18",
   "metadata": {},
   "outputs": [],
   "source": [
    "class RockPaperScissors:\n",
    "    def __init__(self):\n",
    "        self.user_in = input(\"please enter your first option: \")\n",
    "        states = ['Rock', 'Paper', 'Scissors']\n",
    "        self.computer_in = random.choice((states))\n",
    "\n",
    "    def user_input(self):\n",
    "        user_in = input(\"please enter your first option: \")\n",
    "        return user_in\n",
    "\n",
    "    def computer_input(self):\n",
    "        states = ['Rock', 'Paper', 'Scissors']\n",
    "        computer_in = random.choice((states))\n",
    "        return f\"the computer choices {computer_in}\"\n",
    "    \n",
    "    def calculate(self, user_in, computer_in):\n",
    "        if user_in == computer_in:\n",
    "            return \"it's a tie!\"\n",
    "        elif (user_in == 'Rock'and computer_in == 'Paper') or \\\n",
    "        (user_in == 'Paper' and computer_in == \"Scissors\") or \\\n",
    "        (user_in == 'Scissors' and computer_in == 'Rock'):\n",
    "            return \"computer is won !\"\n",
    "        else:\n",
    "            return \"user is won !\""
   ]
  },
  {
   "cell_type": "code",
   "execution_count": null,
   "id": "82211abe",
   "metadata": {},
   "outputs": [],
   "source": []
  }
 ],
 "metadata": {
  "kernelspec": {
   "display_name": "py10",
   "language": "python",
   "name": "python3"
  },
  "language_info": {
   "codemirror_mode": {
    "name": "ipython",
    "version": 3
   },
   "file_extension": ".py",
   "mimetype": "text/x-python",
   "name": "python",
   "nbconvert_exporter": "python",
   "pygments_lexer": "ipython3",
   "version": "3.10.14"
  }
 },
 "nbformat": 4,
 "nbformat_minor": 5
}
